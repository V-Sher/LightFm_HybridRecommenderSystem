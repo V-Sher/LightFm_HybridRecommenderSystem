{
  "cells": [
    {
      "cell_type": "markdown",
      "source": [
        "# Importing necessary libraries"
      ],
      "metadata": {}
    },
    {
      "cell_type": "code",
      "source": [
        "import pandas as pd\n",
        "import numpy as np\n",
        "from lightfm import LightFM"
      ],
      "outputs": [],
      "execution_count": 21,
      "metadata": {}
    },
    {
      "cell_type": "markdown",
      "source": [
        "# Creating dummy datasets "
      ],
      "metadata": {}
    },
    {
      "cell_type": "code",
      "source": [
        "# create dummy dataset\n",
        "data = {'user': ['u1','u1','u2','u2', 'u3', 'u3', 'u3'], \n",
        "        'item': ['i1', 'i3', 'i2', 'i3', 'i1', 'i4', 'i2'], \n",
        "        'r': [1,2,1,3,4,5,2]\n",
        "       }\n",
        "df = pd.DataFrame(data,  columns = ['user', 'item', 'r'])\n",
        "df"
      ],
      "outputs": [
        {
          "output_type": "execute_result",
          "execution_count": 2,
          "data": {
            "text/html": "<div>\n<style scoped>\n    .dataframe tbody tr th:only-of-type {\n        vertical-align: middle;\n    }\n\n    .dataframe tbody tr th {\n        vertical-align: top;\n    }\n\n    .dataframe thead th {\n        text-align: right;\n    }\n</style>\n<table border=\"1\" class=\"dataframe\">\n  <thead>\n    <tr style=\"text-align: right;\">\n      <th></th>\n      <th>user</th>\n      <th>item</th>\n      <th>r</th>\n    </tr>\n  </thead>\n  <tbody>\n    <tr>\n      <td>0</td>\n      <td>u1</td>\n      <td>i1</td>\n      <td>1</td>\n    </tr>\n    <tr>\n      <td>1</td>\n      <td>u1</td>\n      <td>i3</td>\n      <td>2</td>\n    </tr>\n    <tr>\n      <td>2</td>\n      <td>u2</td>\n      <td>i2</td>\n      <td>1</td>\n    </tr>\n    <tr>\n      <td>3</td>\n      <td>u2</td>\n      <td>i3</td>\n      <td>3</td>\n    </tr>\n    <tr>\n      <td>4</td>\n      <td>u3</td>\n      <td>i1</td>\n      <td>4</td>\n    </tr>\n    <tr>\n      <td>5</td>\n      <td>u3</td>\n      <td>i4</td>\n      <td>5</td>\n    </tr>\n    <tr>\n      <td>6</td>\n      <td>u3</td>\n      <td>i2</td>\n      <td>2</td>\n    </tr>\n  </tbody>\n</table>\n</div>",
            "text/plain": "  user item  r\n0   u1   i1  1\n1   u1   i3  2\n2   u2   i2  1\n3   u2   i3  3\n4   u3   i1  4\n5   u3   i4  5\n6   u3   i2  2"
          },
          "metadata": {}
        }
      ],
      "execution_count": 2,
      "metadata": {}
    },
    {
      "cell_type": "code",
      "source": [
        "#dummy item features\n",
        "data = {'user': ['u1','u2','u3'], \n",
        "        'f1': [1, 0, 1], \n",
        "        'f2': [1, 1, 1],\n",
        "        'f3': [0, 0, 1],\n",
        "        'loc': ['del', 'mum', 'del']\n",
        "       }\n",
        "features = pd.DataFrame(data,  columns = ['user', 'f1', 'f2', 'f3', 'loc'])\n",
        "features"
      ],
      "outputs": [
        {
          "output_type": "execute_result",
          "execution_count": 6,
          "data": {
            "text/html": "<div>\n<style scoped>\n    .dataframe tbody tr th:only-of-type {\n        vertical-align: middle;\n    }\n\n    .dataframe tbody tr th {\n        vertical-align: top;\n    }\n\n    .dataframe thead th {\n        text-align: right;\n    }\n</style>\n<table border=\"1\" class=\"dataframe\">\n  <thead>\n    <tr style=\"text-align: right;\">\n      <th></th>\n      <th>user</th>\n      <th>f1</th>\n      <th>f2</th>\n      <th>f3</th>\n      <th>loc</th>\n    </tr>\n  </thead>\n  <tbody>\n    <tr>\n      <td>0</td>\n      <td>u1</td>\n      <td>1</td>\n      <td>1</td>\n      <td>0</td>\n      <td>del</td>\n    </tr>\n    <tr>\n      <td>1</td>\n      <td>u2</td>\n      <td>0</td>\n      <td>1</td>\n      <td>0</td>\n      <td>mum</td>\n    </tr>\n    <tr>\n      <td>2</td>\n      <td>u3</td>\n      <td>1</td>\n      <td>1</td>\n      <td>1</td>\n      <td>del</td>\n    </tr>\n  </tbody>\n</table>\n</div>",
            "text/plain": "  user  f1  f2  f3  loc\n0   u1   1   1   0  del\n1   u2   0   1   0  mum\n2   u3   1   1   1  del"
          },
          "metadata": {}
        }
      ],
      "execution_count": 6,
      "metadata": {}
    },
    {
      "cell_type": "code",
      "source": [],
      "outputs": [],
      "execution_count": null,
      "metadata": {}
    },
    {
      "cell_type": "markdown",
      "source": [
        "# Creating user features"
      ],
      "metadata": {}
    },
    {
      "cell_type": "code",
      "source": [
        "uf = []\n",
        "col = ['f1']*len(features.f1.unique()) + ['f2']*len(features.f2.unique()) + ['f3']*len(features.f3.unique()) + ['loc']*len(features['loc'].unique())\n",
        "unique_f1 = list(features.f1.unique()) + list(features.f2.unique()) + list(features.f3.unique()) + list(features['loc'].unique())\n",
        "#print('f1:', unique_f1)\n",
        "for x,y in zip(col, unique_f1):\n",
        "    res = str(x)+ \":\" +str(y)\n",
        "    uf.append(res)\n",
        "    print(res)\n"
      ],
      "outputs": [
        {
          "output_type": "stream",
          "name": "stdout",
          "text": [
            "f1:1\n",
            "f1:0\n",
            "f2:1\n",
            "f3:0\n",
            "f3:1\n",
            "loc:del\n",
            "loc:mum\n"
          ]
        }
      ],
      "execution_count": 7,
      "metadata": {
        "scrolled": true
      }
    },
    {
      "cell_type": "markdown",
      "source": [
        "# Fitting the dataset"
      ],
      "metadata": {}
    },
    {
      "cell_type": "code",
      "source": [
        "from lightfm.data import Dataset\n",
        "# we call fit to supply userid, item id and user/item features\n",
        "dataset1 = Dataset()\n",
        "dataset1.fit(\n",
        "        df['user'].unique(), # all the users\n",
        "        df['item'].unique(), # all the items\n",
        "        #user_features = ['f1:1', 'f1:0', 'f2:1', 'f2:0', 'f3:1', 'f3:0', 'loc:mum', 'loc:del']\n",
        "        user_features = uf\n",
        ")"
      ],
      "outputs": [
        {
          "output_type": "stream",
          "name": "stderr",
          "text": [
            "/Users/root947/opt/anaconda3/lib/python3.7/site-packages/lightfm/_lightfm_fast.py:9: UserWarning: LightFM was compiled without OpenMP support. Only a single thread will be used.\n",
            "  warnings.warn('LightFM was compiled without OpenMP support. '\n"
          ]
        }
      ],
      "execution_count": 8,
      "metadata": {}
    },
    {
      "cell_type": "code",
      "source": [
        "# plugging in the interactions and their weights\n",
        "(interactions, weights) = dataset1.build_interactions([(x[0], x[1], x[2]) for x in df.values ])\n"
      ],
      "outputs": [],
      "execution_count": 9,
      "metadata": {}
    },
    {
      "cell_type": "code",
      "source": [
        "\n",
        "interactions.todense()\n",
        "\n"
      ],
      "outputs": [
        {
          "output_type": "execute_result",
          "execution_count": 10,
          "data": {
            "text/plain": "matrix([[1, 1, 0, 0],\n        [0, 1, 1, 0],\n        [1, 0, 1, 1]], dtype=int32)"
          },
          "metadata": {}
        }
      ],
      "execution_count": 10,
      "metadata": {}
    },
    {
      "cell_type": "code",
      "source": [
        "weights.todense()"
      ],
      "outputs": [
        {
          "output_type": "execute_result",
          "execution_count": 11,
          "data": {
            "text/plain": "matrix([[1., 2., 0., 0.],\n        [0., 3., 1., 0.],\n        [4., 0., 2., 5.]], dtype=float32)"
          },
          "metadata": {}
        }
      ],
      "execution_count": 11,
      "metadata": {
        "scrolled": true
      }
    },
    {
      "cell_type": "markdown",
      "source": [
        "# Building user features"
      ],
      "metadata": {}
    },
    {
      "cell_type": "code",
      "source": [
        "def feature_colon_value(my_list):\n",
        "    \"\"\"\n",
        "    Takes as input a list and prepends the columns names to respective values in the list.\n",
        "    For example: if my_list = [1,1,0,'del'],\n",
        "    resultant output = ['f1:1', 'f2:1', 'f3:0', 'loc:del']\n",
        "   \n",
        "    \"\"\"\n",
        "    result = []\n",
        "    ll = ['f1:','f2:', 'f3:', 'loc:']\n",
        "    aa = my_list\n",
        "    for x,y in zip(ll,aa):\n",
        "        res = str(x) +\"\"+ str(y)\n",
        "        result.append(res)\n",
        "    return result\n"
      ],
      "outputs": [],
      "execution_count": 12,
      "metadata": {}
    },
    {
      "cell_type": "code",
      "source": [
        "\n",
        "ad_subset = features[[\"f1\", 'f2','f3', 'loc']] \n",
        "ad_list = [list(x) for x in ad_subset.values]\n",
        "feature_list = []\n",
        "for item in ad_list:\n",
        "    feature_list.append(feature_colon_value(item))\n",
        "    print(feature_colon_value(item))\n",
        "print(f'Final output: {feature_list}')    "
      ],
      "outputs": [
        {
          "output_type": "stream",
          "name": "stdout",
          "text": [
            "['f1:1', 'f2:1', 'f3:0', 'loc:del']\n",
            "['f1:0', 'f2:1', 'f3:0', 'loc:mum']\n",
            "['f1:1', 'f2:1', 'f3:1', 'loc:del']\n",
            "Final output: [['f1:1', 'f2:1', 'f3:0', 'loc:del'], ['f1:0', 'f2:1', 'f3:0', 'loc:mum'], ['f1:1', 'f2:1', 'f3:1', 'loc:del']]\n"
          ]
        }
      ],
      "execution_count": 13,
      "metadata": {}
    },
    {
      "cell_type": "code",
      "source": [
        "user_tuple = list(zip(features.user, feature_list))\n",
        "user_tuple\n"
      ],
      "outputs": [
        {
          "output_type": "execute_result",
          "execution_count": 15,
          "data": {
            "text/plain": "[('u1', ['f1:1', 'f2:1', 'f3:0', 'loc:del']),\n ('u2', ['f1:0', 'f2:1', 'f3:0', 'loc:mum']),\n ('u3', ['f1:1', 'f2:1', 'f3:1', 'loc:del'])]"
          },
          "metadata": {}
        }
      ],
      "execution_count": 15,
      "metadata": {}
    },
    {
      "cell_type": "code",
      "source": [
        "user_features = dataset1.build_user_features(user_tuple, normalize= False)\n",
        "user_features.todense()"
      ],
      "outputs": [
        {
          "output_type": "execute_result",
          "execution_count": 16,
          "data": {
            "text/plain": "matrix([[1., 0., 0., 1., 0., 1., 1., 0., 1., 0.],\n        [0., 1., 0., 0., 1., 1., 1., 0., 0., 1.],\n        [0., 0., 1., 1., 0., 1., 0., 1., 1., 0.]], dtype=float32)"
          },
          "metadata": {}
        }
      ],
      "execution_count": 16,
      "metadata": {}
    },
    {
      "cell_type": "code",
      "source": [
        "user_features.todense() # rows are the users and columns are the user features : total 10 features. WHY 10 see below\n"
      ],
      "outputs": [
        {
          "output_type": "execute_result",
          "execution_count": 17,
          "data": {
            "text/plain": "matrix([[1., 0., 0., 1., 0., 1., 1., 0., 1., 0.],\n        [0., 1., 0., 0., 1., 1., 1., 0., 0., 1.],\n        [0., 0., 1., 1., 0., 1., 0., 1., 1., 0.]], dtype=float32)"
          },
          "metadata": {}
        }
      ],
      "execution_count": 17,
      "metadata": {}
    },
    {
      "cell_type": "code",
      "source": [
        "user_id_map, user_feature_map, item_id_map, item_feature_map = dataset1.mapping()\n",
        "dataset1.mapping()"
      ],
      "outputs": [
        {
          "output_type": "execute_result",
          "execution_count": 18,
          "data": {
            "text/plain": "({'u1': 0, 'u2': 1, 'u3': 2},\n {'u1': 0,\n  'u2': 1,\n  'u3': 2,\n  'f1:1': 3,\n  'f1:0': 4,\n  'f2:1': 5,\n  'f3:0': 6,\n  'f3:1': 7,\n  'loc:del': 8,\n  'loc:mum': 9},\n {'i1': 0, 'i3': 1, 'i2': 2, 'i4': 3},\n {'i1': 0, 'i3': 1, 'i2': 2, 'i4': 3})"
          },
          "metadata": {}
        }
      ],
      "execution_count": 18,
      "metadata": {}
    },
    {
      "cell_type": "code",
      "source": [
        "user_feature_map\n"
      ],
      "outputs": [
        {
          "output_type": "execute_result",
          "execution_count": 19,
          "data": {
            "text/plain": "{'u1': 0,\n 'u2': 1,\n 'u3': 2,\n 'f1:1': 3,\n 'f1:0': 4,\n 'f2:1': 5,\n 'f3:0': 6,\n 'f3:1': 7,\n 'loc:del': 8,\n 'loc:mum': 9}"
          },
          "metadata": {}
        }
      ],
      "execution_count": 19,
      "metadata": {}
    },
    {
      "cell_type": "markdown",
      "source": [
        "# Training the model"
      ],
      "metadata": {}
    },
    {
      "cell_type": "code",
      "source": [
        "\n",
        "model = LightFM(loss='warp')\n",
        "model.fit(interactions, # spase matrix representing whether user u and item i interacted\n",
        "      user_features= user_features, # we have built the sparse matrix above\n",
        "      sample_weight= weights, # spase matrix representing how much value to give to user u and item i inetraction: i.e ratings\n",
        "      epochs=10)"
      ],
      "outputs": [
        {
          "output_type": "execute_result",
          "execution_count": 22,
          "data": {
            "text/plain": "<lightfm.lightfm.LightFM at 0x1a1f0a1b50>"
          },
          "metadata": {}
        }
      ],
      "execution_count": 22,
      "metadata": {}
    },
    {
      "cell_type": "markdown",
      "source": [
        "# Evaluating the model"
      ],
      "metadata": {}
    },
    {
      "cell_type": "code",
      "source": [
        "from lightfm.evaluation import auc_score\n",
        "train_auc = auc_score(model,\n",
        "                      interactions,\n",
        "                      user_features=user_features\n",
        "                     ).mean()\n",
        "print('Hybrid training set AUC: %s' % train_auc)\n"
      ],
      "outputs": [
        {
          "output_type": "stream",
          "name": "stdout",
          "text": [
            "Hybrid training set AUC: 0.8333333\n"
          ]
        }
      ],
      "execution_count": 23,
      "metadata": {}
    },
    {
      "cell_type": "markdown",
      "source": [
        "# Prediction for KNOWN user"
      ],
      "metadata": {}
    },
    {
      "cell_type": "code",
      "source": [
        "\n",
        "# predict for existing user\n",
        "user_x = user_id_map['u3']\n",
        "n_users, n_items = interactions.shape # no of users * no of items\n",
        "model.predict(user_x, np.arange(n_items)) # means predict for all\n"
      ],
      "outputs": [
        {
          "output_type": "execute_result",
          "execution_count": 24,
          "data": {
            "text/plain": "array([-0.14289093, -0.64892906, -0.27624682, -0.23572367])"
          },
          "metadata": {}
        }
      ],
      "execution_count": 24,
      "metadata": {}
    },
    {
      "cell_type": "markdown",
      "source": [
        "# Prediction for NEW user"
      ],
      "metadata": {}
    },
    {
      "cell_type": "code",
      "source": [
        "# predict for new user\n",
        "user_feature_list = ['f1:1', 'f2:1', 'f3:0', 'loc:del']"
      ],
      "outputs": [],
      "execution_count": 25,
      "metadata": {}
    },
    {
      "cell_type": "code",
      "source": [
        "def format_newuser_input(user_feature_map, user_feature_list):\n",
        "  #user_feature_map = user_feature_map  \n",
        "  num_features = len(user_feature_list)\n",
        "  normalised_val = 1.0 \n",
        "  target_indices = []\n",
        "  for feature in user_feature_list:\n",
        "    try:\n",
        "        target_indices.append(user_feature_map[feature])\n",
        "    except KeyError:\n",
        "        print(\"new user feature encountered '{}'\".format(feature))\n",
        "        pass\n",
        "  #print(\"target indices: {}\".format(target_indices))\n",
        "  new_user_features = np.zeros(len(user_feature_map.keys()))\n",
        "  for i in target_indices:\n",
        "    new_user_features[i] = normalised_val\n",
        "  new_user_features = sparse.csr_matrix(new_user_features)\n",
        "  return(new_user_features)"
      ],
      "outputs": [],
      "execution_count": 29,
      "metadata": {}
    },
    {
      "cell_type": "code",
      "source": [
        "new_user_features = format_newuser_input(user_feature_map, user_feature_list)"
      ],
      "outputs": [],
      "execution_count": 30,
      "metadata": {}
    },
    {
      "cell_type": "code",
      "source": [
        "new_user_features.todense()\n"
      ],
      "outputs": [
        {
          "output_type": "execute_result",
          "execution_count": 31,
          "data": {
            "text/plain": "matrix([[0., 0., 0., 1., 0., 1., 1., 0., 1., 0.]])"
          },
          "metadata": {}
        }
      ],
      "execution_count": 31,
      "metadata": {}
    },
    {
      "cell_type": "code",
      "source": [
        "\n",
        "model.predict(0, np.arange(n_items), user_features=new_user_features) # Here 0 means pick the first row of the user_features sparse matrix"
      ],
      "outputs": [
        {
          "output_type": "execute_result",
          "execution_count": 28,
          "data": {
            "text/plain": "array([-1.71516085, -2.16669893, -1.87196445, -1.85628653])"
          },
          "metadata": {}
        }
      ],
      "execution_count": 28,
      "metadata": {}
    },
    {
      "cell_type": "code",
      "source": [
        "# TO-DO: Add item_features matrix!"
      ],
      "outputs": [],
      "execution_count": null,
      "metadata": {}
    }
  ],
  "metadata": {
    "kernelspec": {
      "name": "python3",
      "language": "python",
      "display_name": "Python 3"
    },
    "language_info": {
      "name": "python",
      "version": "3.6.9",
      "mimetype": "text/x-python",
      "codemirror_mode": {
        "name": "ipython",
        "version": 3
      },
      "pygments_lexer": "ipython3",
      "nbconvert_exporter": "python",
      "file_extension": ".py"
    },
    "kernel_info": {
      "name": "python3"
    },
    "nteract": {
      "version": "nteract-front-end@1.0.0"
    }
  },
  "nbformat": 4,
  "nbformat_minor": 2
}